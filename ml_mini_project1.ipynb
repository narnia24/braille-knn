{
  "nbformat": 4,
  "nbformat_minor": 0,
  "metadata": {
    "colab": {
      "provenance": [],
      "authorship_tag": "ABX9TyOB5//P4kBHJiZ5kizXOEU7"
    },
    "kernelspec": {
      "name": "python3",
      "display_name": "Python 3"
    },
    "language_info": {
      "name": "python"
    }
  },
  "cells": [
    {
      "cell_type": "code",
      "execution_count": null,
      "metadata": {
        "colab": {
          "base_uri": "https://localhost:8080/"
        },
        "id": "vgXYLrfgPvaH",
        "outputId": "2030748c-8a70-4eaf-a810-98e188b3da50"
      },
      "outputs": [
        {
          "output_type": "stream",
          "name": "stdout",
          "text": [
            "Accuracy: 0.00%\n",
            "Predicted Braille symbol: A\n"
          ]
        }
      ],
      "source": [
        "import numpy as np\n",
        "from sklearn.model_selection import train_test_split\n",
        "from sklearn.neighbors import KNeighborsClassifier\n",
        "from sklearn.metrics import accuracy_score\n",
        "from gtts import gTTS\n",
        "import os\n",
        "os.listdir()\n",
        "\n",
        "braille_data = [\n",
        "    ([1, 0, 0, 1, 0, 0], 'A'),  # 'A'\n",
        "    ([1, 1, 0, 0, 0, 0], 'B'),  # 'B'\n",
        "    ([1, 0, 0, 1, 1, 0], 'C'),  # 'C'\n",
        "    ([1, 0, 0, 1, 1, 1], 'D'),  # 'D'\n",
        "    ([1, 0, 0, 0, 1, 0], 'E'),  # 'E'\n",
        "    ([1, 0, 0, 1, 1, 0], 'F'),  # 'F'\n",
        "    ([1, 0, 0, 1, 1, 1], 'G'),  # 'G'\n",
        "    ([1, 0, 0, 0, 1, 1], 'H'),  # 'H'\n",
        "    ([0, 1, 0, 1, 0, 0], 'I'),  # 'I'\n",
        "    ([0, 1, 0, 1, 1, 0], 'J'),  # 'J'\n",
        "    ([1, 0, 1, 1, 0, 0], 'K'),  # 'K'\n",
        "    ([1, 1, 1, 0, 0, 0], 'L'),  # 'L'\n",
        "    ([1, 0, 1, 1, 1, 0], 'M'),  # 'M'\n",
        "    ([1, 0, 1, 1, 1, 1], 'N'),  # 'N'\n",
        "    ([1, 0, 1, 0, 1, 0], 'O'),  # 'O'\n",
        "    ([1, 0, 1, 1, 1, 0], 'P'),  # 'P'\n",
        "    ([1, 0, 1, 1, 1, 1], 'Q'),  # 'Q'\n",
        "    ([1, 0, 1, 0, 1, 1], 'R'),  # 'R'\n",
        "    ([0, 1, 1, 1, 0, 0], 'S'),  # 'S'\n",
        "    ([0, 1, 1, 1, 1, 0], 'T'),  # 'T'\n",
        "    ([1, 0, 1, 0, 0, 0], 'U'),  # 'U'\n",
        "    ([1, 1, 1, 0, 1, 0], 'V'),  # 'V'\n",
        "    ([0, 1, 0, 1, 1, 1], 'W'),  # 'W'\n",
        "    ([1, 0, 1, 1, 0, 0], 'X'),  # 'X'\n",
        "    ([1, 0, 1, 1, 0, 1], 'Y'),  # 'Y'\n",
        "    ([1, 0, 1, 0, 0, 1], 'Z'),  # 'Z'\n",
        "    ([0, 0, 1, 1, 0, 0], '1'),  # '1'\n",
        "    ([0, 0, 1, 1, 0, 1], '2'),  # '2'\n",
        "    ([0, 0, 1, 1, 1, 0], '3'),  # '3'\n",
        "    ([0, 0, 1, 1, 1, 1], '4'),  # '4'\n",
        "    ([0, 0, 1, 0, 1, 0], '5'),  # '5'\n",
        "    ([0, 0, 1, 1, 0, 0], '6'),  # '6'\n",
        "    ([0, 0, 1, 1, 0, 1], '7'),  # '7'\n",
        "    ([0, 0, 1, 1, 1, 1], '8'),  # '8'\n",
        "    ([0, 0, 1, 0, 1, 1], '9'),  # '9'\n",
        "    ([0, 0, 1, 0, 1, 1], '0')   # '0'\n",
        "]\n",
        "\n",
        "X = [item[0] for item in braille_data]\n",
        "y = [item[1] for item in braille_data]\n",
        "\n",
        "X_train, X_test, y_train, y_test = train_test_split(X, y, test_size=0.2, random_state=42)\n",
        "\n",
        "knn = KNeighborsClassifier(n_neighbors=3)\n",
        "knn.fit(X_train, y_train)\n",
        "\n",
        "y_pred = knn.predict(X_test)\n",
        "accuracy = accuracy_score(y_test, y_pred)\n",
        "print(f\"Accuracy: {accuracy * 100:.2f}%\")\n",
        "\n",
        "def text_to_speech(text):\n",
        "    tts = gTTS(text=text, lang='en')\n",
        "    tts.save(\"C:\\\\Users\\\\Lenovo\\\\Downloads\\\\BrailleToSpeech\\\\output.mp3\")\n",
        "    tts.save(\"output.mp3\")\n",
        "    os.system(\"start output.mp3\")\n",
        "\n",
        "test_braille = [1, 0, 0, 1, 0, 0]\n",
        "predicted_text = knn.predict([test_braille])[0]\n",
        "print(f\"Predicted Braille symbol: {predicted_text}\")\n",
        "\n",
        "text_to_speech(predicted_text)\n"
      ]
    }
  ]
}